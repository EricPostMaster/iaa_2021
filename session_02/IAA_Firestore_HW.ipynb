{
  "nbformat": 4,
  "nbformat_minor": 0,
  "metadata": {
    "colab": {
      "name": "IAA_Firestore_HW.ipynb",
      "provenance": [],
      "toc_visible": true
    },
    "kernelspec": {
      "name": "python3",
      "display_name": "Python 3"
    }
  },
  "cells": [
    {
      "cell_type": "markdown",
      "metadata": {
        "id": "zKeSLbAURqGy"
      },
      "source": [
        "## Install Dependencies\r\n",
        "\r\n",
        "Reference: \r\n",
        "* [Google Cloud Firestore Docs](https://cloud.google.com/firestore/docs/how-to)\r\n",
        "* [Google Cloud Firestore Pypi](https://pypi.org/project/google-cloud-firestore/)\r\n"
      ]
    },
    {
      "cell_type": "code",
      "metadata": {
        "colab": {
          "base_uri": "https://localhost:8080/"
        },
        "id": "aLmkt6fkMwig",
        "outputId": "915cd3d6-e3de-46b9-d200-36f83674ef3f"
      },
      "source": [
        "!pip install google-cloud-firestore"
      ],
      "execution_count": 1,
      "outputs": [
        {
          "output_type": "stream",
          "text": [
            "Requirement already satisfied: google-cloud-firestore in /usr/local/lib/python3.7/dist-packages (1.7.0)\n",
            "Requirement already satisfied: google-api-core[grpc]<2.0.0dev,>=1.14.0 in /usr/local/lib/python3.7/dist-packages (from google-cloud-firestore) (1.26.1)\n",
            "Requirement already satisfied: pytz in /usr/local/lib/python3.7/dist-packages (from google-cloud-firestore) (2018.9)\n",
            "Requirement already satisfied: google-cloud-core<2.0dev,>=1.0.3 in /usr/local/lib/python3.7/dist-packages (from google-cloud-firestore) (1.0.3)\n",
            "Requirement already satisfied: requests<3.0.0dev,>=2.18.0 in /usr/local/lib/python3.7/dist-packages (from google-api-core[grpc]<2.0.0dev,>=1.14.0->google-cloud-firestore) (2.23.0)\n",
            "Requirement already satisfied: packaging>=14.3 in /usr/local/lib/python3.7/dist-packages (from google-api-core[grpc]<2.0.0dev,>=1.14.0->google-cloud-firestore) (20.9)\n",
            "Requirement already satisfied: setuptools>=40.3.0 in /usr/local/lib/python3.7/dist-packages (from google-api-core[grpc]<2.0.0dev,>=1.14.0->google-cloud-firestore) (54.0.0)\n",
            "Requirement already satisfied: google-auth<2.0dev,>=1.21.1 in /usr/local/lib/python3.7/dist-packages (from google-api-core[grpc]<2.0.0dev,>=1.14.0->google-cloud-firestore) (1.27.1)\n",
            "Requirement already satisfied: protobuf>=3.12.0 in /usr/local/lib/python3.7/dist-packages (from google-api-core[grpc]<2.0.0dev,>=1.14.0->google-cloud-firestore) (3.12.4)\n",
            "Requirement already satisfied: six>=1.13.0 in /usr/local/lib/python3.7/dist-packages (from google-api-core[grpc]<2.0.0dev,>=1.14.0->google-cloud-firestore) (1.15.0)\n",
            "Requirement already satisfied: googleapis-common-protos<2.0dev,>=1.6.0 in /usr/local/lib/python3.7/dist-packages (from google-api-core[grpc]<2.0.0dev,>=1.14.0->google-cloud-firestore) (1.53.0)\n",
            "Requirement already satisfied: grpcio<2.0dev,>=1.29.0; extra == \"grpc\" in /usr/local/lib/python3.7/dist-packages (from google-api-core[grpc]<2.0.0dev,>=1.14.0->google-cloud-firestore) (1.32.0)\n",
            "Requirement already satisfied: idna<3,>=2.5 in /usr/local/lib/python3.7/dist-packages (from requests<3.0.0dev,>=2.18.0->google-api-core[grpc]<2.0.0dev,>=1.14.0->google-cloud-firestore) (2.10)\n",
            "Requirement already satisfied: urllib3!=1.25.0,!=1.25.1,<1.26,>=1.21.1 in /usr/local/lib/python3.7/dist-packages (from requests<3.0.0dev,>=2.18.0->google-api-core[grpc]<2.0.0dev,>=1.14.0->google-cloud-firestore) (1.24.3)\n",
            "Requirement already satisfied: certifi>=2017.4.17 in /usr/local/lib/python3.7/dist-packages (from requests<3.0.0dev,>=2.18.0->google-api-core[grpc]<2.0.0dev,>=1.14.0->google-cloud-firestore) (2020.12.5)\n",
            "Requirement already satisfied: chardet<4,>=3.0.2 in /usr/local/lib/python3.7/dist-packages (from requests<3.0.0dev,>=2.18.0->google-api-core[grpc]<2.0.0dev,>=1.14.0->google-cloud-firestore) (3.0.4)\n",
            "Requirement already satisfied: pyparsing>=2.0.2 in /usr/local/lib/python3.7/dist-packages (from packaging>=14.3->google-api-core[grpc]<2.0.0dev,>=1.14.0->google-cloud-firestore) (2.4.7)\n",
            "Requirement already satisfied: pyasn1-modules>=0.2.1 in /usr/local/lib/python3.7/dist-packages (from google-auth<2.0dev,>=1.21.1->google-api-core[grpc]<2.0.0dev,>=1.14.0->google-cloud-firestore) (0.2.8)\n",
            "Requirement already satisfied: cachetools<5.0,>=2.0.0 in /usr/local/lib/python3.7/dist-packages (from google-auth<2.0dev,>=1.21.1->google-api-core[grpc]<2.0.0dev,>=1.14.0->google-cloud-firestore) (4.2.1)\n",
            "Requirement already satisfied: rsa<5,>=3.1.4; python_version >= \"3.6\" in /usr/local/lib/python3.7/dist-packages (from google-auth<2.0dev,>=1.21.1->google-api-core[grpc]<2.0.0dev,>=1.14.0->google-cloud-firestore) (4.7.2)\n",
            "Requirement already satisfied: pyasn1<0.5.0,>=0.4.6 in /usr/local/lib/python3.7/dist-packages (from pyasn1-modules>=0.2.1->google-auth<2.0dev,>=1.21.1->google-api-core[grpc]<2.0.0dev,>=1.14.0->google-cloud-firestore) (0.4.8)\n"
          ],
          "name": "stdout"
        }
      ]
    },
    {
      "cell_type": "markdown",
      "metadata": {
        "id": "NG84VlusSHEK"
      },
      "source": [
        "## Import Python Libraries"
      ]
    },
    {
      "cell_type": "code",
      "metadata": {
        "id": "QZGVjSuXNnAv"
      },
      "source": [
        "from google.cloud import firestore\r\n",
        "import json\r\n",
        "import os, re\r\n",
        "\r\n",
        "# Set environ variable for Google Cloud Firestore\r\n",
        "# This is a service account that allows read/write access to Google Firestore.\r\n",
        "os.environ[\"GOOGLE_APPLICATION_CREDENTIALS\"]=\"iaa_firestore_sa.json\"\r\n"
      ],
      "execution_count": 2,
      "outputs": []
    },
    {
      "cell_type": "code",
      "metadata": {
        "id": "_gkf0J5hS0cf"
      },
      "source": [
        "# Connect to Google Cloud Firestore and create the db object\r\n",
        "# If this errors out, then it is most likely an authentication issue. \r\n",
        "# Make sure you have set the environment variable with the provided service account file, iaa_firestore_sa.json serive account. \r\n",
        "\r\n",
        "db = firestore.Client()"
      ],
      "execution_count": 3,
      "outputs": []
    },
    {
      "cell_type": "code",
      "metadata": {
        "id": "qCOItRqPTqWR"
      },
      "source": [
        "# Specify Firestore Params\r\n",
        "\r\n",
        "collection_name = 'iaa_2021'"
      ],
      "execution_count": 4,
      "outputs": []
    },
    {
      "cell_type": "markdown",
      "metadata": {
        "id": "cIcbvtmGSuJe"
      },
      "source": [
        "## Read from Google Cloud Firestore\r\n",
        "\r\n",
        "Use the framework below, along with your own code, to read a record to Google Cloud Firestore.\r\n",
        "\r\n",
        "**Instructions:**\r\n",
        "\r\n",
        "1. Read a record/document from Google Cloud Firestore. The record/document is located at a Collection called \"iaa_2021\" and the record/document name is called \"dan_zaratsian\". \r\n",
        "\r\n",
        "2. Copy that record/document into a variable called \"test_record\". (Or you can name the variable something else if you prefer)."
      ]
    },
    {
      "cell_type": "code",
      "metadata": {
        "id": "L39Gk4FoSx0h"
      },
      "source": [
        "# Code to read a record/document from Firestore\r\n",
        "\r\n",
        "collection_name = collection_name\r\n",
        "\r\n",
        "docid = 'dan_zaratsian'\r\n",
        "\r\n",
        "fs_obj = db.collection(collection).document(docid)\r\n",
        "\r\n",
        "'''\r\n",
        "Add code here to read the record/document from the 'iaa_2021' collection with document id 'dan_zaratsian'\r\n",
        "\r\n",
        "Place the results in a variable called \"test_record\"\r\n",
        "'''\r\n"
      ],
      "execution_count": 8,
      "outputs": []
    },
    {
      "cell_type": "code",
      "metadata": {
        "colab": {
          "base_uri": "https://localhost:8080/"
        },
        "id": "fTHFJ9gu9DZO",
        "outputId": "ecbf7639-4602-4a76-c518-44f0e433468f"
      },
      "source": [
        "# Print the test_record that was read from Google Firestore \r\n",
        "print(test_record)"
      ],
      "execution_count": 9,
      "outputs": [
        {
          "output_type": "stream",
          "text": [
            "{'edu': 'IAA', 'org': 'Google'}\n"
          ],
          "name": "stdout"
        }
      ]
    },
    {
      "cell_type": "markdown",
      "metadata": {
        "id": "XI6-le0cSkcK"
      },
      "source": [
        "## Write to Google Cloud Firestore\r\n",
        "\r\n",
        "Use the framework below, along with your own code, to write a record to Google Cloud Firestore.\r\n",
        "\r\n",
        "**Instructions:**\r\n",
        "\r\n",
        "1. The \"test_record\" variable that you created in the previous step should be a json payload. I want you to add a new key-value field to the test_record. You can name the key whatever you want and the value can also be whatever you choose.  \r\n",
        "\r\n",
        "2. Write the modified \"test_record\" json payload back into to Firestore. Use the collection name \"iaa_2021\" and the document id should be your name. You can use the code framework, shown below, as a guide. "
      ]
    },
    {
      "cell_type": "code",
      "metadata": {
        "id": "mOz2AFQh9a9q"
      },
      "source": [
        "# Add a new key-value field to the test_record. \r\n",
        "test_record['my_new_key'] = 'my_test_value'"
      ],
      "execution_count": 10,
      "outputs": []
    },
    {
      "cell_type": "code",
      "metadata": {
        "id": "1WymbQ_OOA6R"
      },
      "source": [
        "# Code to write a record/document to Firestore\r\n",
        "\r\n",
        "collection_name = collection_name\r\n",
        "\r\n",
        "docid = 'You Name Here'\r\n",
        "\r\n",
        "fs_obj = db.collection(collection_name).document(docid)\r\n",
        "\r\n",
        "''' \r\n",
        "Code to write the updated test_record to Firestore\r\n",
        "'''\r\n",
        "\r\n",
        "# NOTE: You should also be able to read the record that you sent to Firestore (just to confirm it worked)"
      ],
      "execution_count": 12,
      "outputs": []
    }
  ]
}