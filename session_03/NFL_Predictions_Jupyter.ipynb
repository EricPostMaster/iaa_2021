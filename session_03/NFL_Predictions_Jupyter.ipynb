{
  "nbformat": 4,
  "nbformat_minor": 0,
  "metadata": {
    "kernelspec": {
      "name": "python3",
      "display_name": "Python 3"
    },
    "colab": {
      "name": "NFL_Predictions_Jupyter.ipynb",
      "provenance": []
    }
  },
  "cells": [
    {
      "cell_type": "markdown",
      "metadata": {
        "collapsed": true,
        "id": "YUPMSTIwgDUX",
        "colab_type": "text"
      },
      "source": [
        "![CRISP-DM](https://raw.githubusercontent.com/zaratsian/Spark/master/nfl_banner2.png)\n"
      ]
    },
    {
      "cell_type": "markdown",
      "metadata": {
        "id": "NxKQnNZpgDUa",
        "colab_type": "text"
      },
      "source": [
        "## Use Case:  Predicting NFL play"
      ]
    },
    {
      "cell_type": "markdown",
      "metadata": {
        "id": "E5TU-bCggDUb",
        "colab_type": "text"
      },
      "source": [
        "## Loading Libraries"
      ]
    },
    {
      "cell_type": "code",
      "metadata": {
        "id": "8gAjWzfss5nB",
        "colab_type": "code",
        "colab": {}
      },
      "source": [
        "# Install Spark dependencies\n",
        "!apt-get install openjdk-8-jdk-headless -qq > /dev/null\n",
        "!rm spark-2.4.5-bin-hadoop2.7.tgz\n",
        "!wget --no-cookies --no-check-certificate https://downloads.apache.org/spark/spark-2.4.5/spark-2.4.5-bin-hadoop2.7.tgz\n",
        "!tar zxvf spark-2.4.5-bin-hadoop2.7.tgz\n",
        "!pip install -q findspark\n",
        "!pip install pyspark"
      ],
      "execution_count": 0,
      "outputs": []
    },
    {
      "cell_type": "code",
      "metadata": {
        "id": "GbtsIJwBgDUc",
        "colab_type": "code",
        "colab": {}
      },
      "source": [
        "import os\n",
        "os.environ[\"JAVA_HOME\"]  = \"/usr/lib/jvm/java-8-openjdk-amd64\"\n",
        "os.environ[\"SPARK_HOME\"] = \"/content/spark-2.4.5-bin-hadoop2.7\"\n",
        "\n",
        "from pyspark import SparkContext\n",
        "from pyspark.sql import SparkSession\n",
        "\n",
        "import datetime, time \n",
        "import re, random, sys\n",
        "from pyspark.sql.types import StructType, StructField, ArrayType, IntegerType, StringType, FloatType, LongType, DateType\n",
        "from pyspark.sql.functions import struct, array, lit, monotonically_increasing_id, col, expr, when, concat, udf, split, size, lag, count, isnull\n",
        "from pyspark.sql import Window\n",
        "from pyspark.ml.linalg import Vectors\n",
        "from pyspark.ml.regression import GBTRegressor, LinearRegression, GeneralizedLinearRegression, RandomForestRegressor\n",
        "from pyspark.ml.classification import GBTClassifier, RandomForestClassifier\n",
        "from pyspark.ml.feature import VectorIndexer, VectorAssembler, StringIndexer, IndexToString\n",
        "from pyspark.ml.evaluation import RegressionEvaluator\n",
        "from pyspark.ml import Pipeline, PipelineModel\n",
        "from pyspark.ml.evaluation import MulticlassClassificationEvaluator, RegressionEvaluator"
      ],
      "execution_count": 0,
      "outputs": []
    },
    {
      "cell_type": "code",
      "metadata": {
        "id": "ibznxCWCgDUg",
        "colab_type": "code",
        "colab": {}
      },
      "source": [
        "# Initialize Spark Session\n",
        "spark = SparkSession.builder.appName(\"Spark NFL Predictions\").master(\"local[*]\").getOrCreate()"
      ],
      "execution_count": 0,
      "outputs": []
    },
    {
      "cell_type": "markdown",
      "metadata": {
        "id": "n4lFP7FZgDUj",
        "colab_type": "text"
      },
      "source": [
        "## Data Ingestion"
      ]
    },
    {
      "cell_type": "markdown",
      "metadata": {
        "id": "9rbCOB_3gDUp",
        "colab_type": "text"
      },
      "source": [
        "### Download Data"
      ]
    },
    {
      "cell_type": "code",
      "metadata": {
        "id": "BMoXBsC7uprL",
        "colab_type": "code",
        "colab": {}
      },
      "source": [
        "!wget https://raw.githubusercontent.com/zaratsian/iaa_2020/master/data/NFLPlaybyPlay.csv"
      ],
      "execution_count": 0,
      "outputs": []
    },
    {
      "cell_type": "markdown",
      "metadata": {
        "id": "k9kPiGZOupEc",
        "colab_type": "text"
      },
      "source": [
        "### Load data into Spark Dataframe"
      ]
    },
    {
      "cell_type": "code",
      "metadata": {
        "id": "nkjkgkipgDUq",
        "colab_type": "code",
        "colab": {}
      },
      "source": [
        "schema = StructType([\n",
        "    StructField(\"id\", IntegerType()),\n",
        "    StructField(\"Date\", DateType()),\n",
        "    StructField(\"GameID\", IntegerType()),\n",
        "    StructField(\"Drive\", IntegerType()),\n",
        "    StructField(\"qtr\", IntegerType()),\n",
        "    StructField(\"down\", StringType()),\n",
        "    StructField(\"time\", StringType()),\n",
        "    StructField(\"TimeUnder\", IntegerType()),\n",
        "    StructField(\"TimeSecs\", StringType()),\n",
        "    StructField(\"PlayTimeDiff\", StringType()),\n",
        "    StructField(\"SideofField\", StringType()),\n",
        "    StructField(\"yrdln\", StringType()),\n",
        "    StructField(\"yrdline100\", StringType()),\n",
        "    StructField(\"ydstogo\", IntegerType()),\n",
        "    StructField(\"ydsnet\", IntegerType()),\n",
        "    StructField(\"GoalToGo\", StringType()),\n",
        "    StructField(\"FirstDown\", StringType()),\n",
        "    StructField(\"posteam\", StringType()),\n",
        "    StructField(\"DefensiveTeam\", StringType()),\n",
        "    StructField(\"desc\", StringType()),\n",
        "    StructField(\"PlayAttempted\", IntegerType()),\n",
        "    StructField(\"Yards_Gained\", IntegerType()),\n",
        "    StructField(\"sp\", IntegerType()),\n",
        "    StructField(\"Touchdown\", IntegerType()),\n",
        "    StructField(\"ExPointResult\", StringType()),\n",
        "    StructField(\"TwoPointConv\", StringType()),\n",
        "    StructField(\"DefTwoPoint\", StringType()),\n",
        "    StructField(\"Safety\", IntegerType()),\n",
        "    StructField(\"PuntResult\", StringType()),\n",
        "    StructField(\"PlayType\", StringType()),\n",
        "    StructField(\"Passer\", StringType()),\n",
        "    StructField(\"PassAttempt\", IntegerType()),\n",
        "    StructField(\"PassOutcome\", StringType()),\n",
        "    StructField(\"PassLength\", StringType()),\n",
        "    StructField(\"PassLocation\", StringType()),\n",
        "    StructField(\"InterceptionThrown\", IntegerType()),\n",
        "    StructField(\"Interceptor\", StringType()),\n",
        "    StructField(\"Rusher\", StringType()),\n",
        "    StructField(\"RushAttempt\", IntegerType()),\n",
        "    StructField(\"RunLocation\", StringType()),\n",
        "    StructField(\"RunGap\", StringType()),\n",
        "    StructField(\"Receiver\", StringType()),\n",
        "    StructField(\"Reception\", IntegerType()),\n",
        "    StructField(\"ReturnResult\", StringType()),\n",
        "    StructField(\"Returner\", StringType()),\n",
        "    StructField(\"BlockingPlayer\", StringType()),\n",
        "    StructField(\"Tackler1\", StringType()),\n",
        "    StructField(\"Tackler2\", StringType()),\n",
        "    StructField(\"FieldGoalResult\", StringType()),\n",
        "    StructField(\"FieldGoalDistance\", StringType()),\n",
        "    StructField(\"Fumble\", IntegerType()),\n",
        "    StructField(\"RecFumbTeam\", StringType()),\n",
        "    StructField(\"RecFumbPlayer\", StringType()),\n",
        "    StructField(\"Sack\", IntegerType()),\n",
        "    StructField(\"Challenge.Replay\", IntegerType()),\n",
        "    StructField(\"ChalReplayResult\", StringType()),\n",
        "    StructField(\"Accepted.Penalty\", IntegerType()),\n",
        "    StructField(\"PenalizedTeam\", StringType()),\n",
        "    StructField(\"PenaltyType\", StringType()),\n",
        "    StructField(\"PenalizedPlayer\", StringType()),\n",
        "    StructField(\"Penalty.Yards\", IntegerType()),\n",
        "    StructField(\"PosTeamScore\", StringType()),\n",
        "    StructField(\"DefTeamScore\", StringType()),\n",
        "    StructField(\"ScoreDiff\", StringType()),\n",
        "    StructField(\"AbsScoreDiff\", StringType()),\n",
        "    StructField(\"Season\", IntegerType())\n",
        "])\n",
        "\n",
        "rawdata = spark.read.load('NFLPlaybyPlay.csv', format=\"csv\", header=True, schema=schema)"
      ],
      "execution_count": 0,
      "outputs": []
    },
    {
      "cell_type": "code",
      "metadata": {
        "id": "upprPZnZ3z--",
        "colab_type": "code",
        "colab": {
          "base_uri": "https://localhost:8080/",
          "height": 325
        },
        "outputId": "af8805da-f2e8-4baf-8e67-813c2224f772"
      },
      "source": [
        "rawdata.show(10,False)"
      ],
      "execution_count": 33,
      "outputs": [
        {
          "output_type": "stream",
          "text": [
            "+---+----------+----------+-----+---+----+-----+---------+--------+------------+-----------+-----+----------+-------+------+--------+---------+-------+-------------+-------------------------------------------------------------------------------------------------------------------------------------------------------------------------+-------------+------------+---+---------+-------------+------------+-----------+------+----------+--------+----------------+-----------+-----------+----------+------------+------------------+-----------+-----------+-----------+-----------+------+--------+---------+------------+--------+--------------+-----------+--------+---------------+-----------------+------+-----------+-------------+----+----------------+----------------+----------------+-------------+-----------+---------------+-------------+------------+------------+---------+------------+------+\n",
            "|id |Date      |GameID    |Drive|qtr|down|time |TimeUnder|TimeSecs|PlayTimeDiff|SideofField|yrdln|yrdline100|ydstogo|ydsnet|GoalToGo|FirstDown|posteam|DefensiveTeam|desc                                                                                                                                                                     |PlayAttempted|Yards_Gained|sp |Touchdown|ExPointResult|TwoPointConv|DefTwoPoint|Safety|PuntResult|PlayType|Passer          |PassAttempt|PassOutcome|PassLength|PassLocation|InterceptionThrown|Interceptor|Rusher     |RushAttempt|RunLocation|RunGap|Receiver|Reception|ReturnResult|Returner|BlockingPlayer|Tackler1   |Tackler2|FieldGoalResult|FieldGoalDistance|Fumble|RecFumbTeam|RecFumbPlayer|Sack|Challenge.Replay|ChalReplayResult|Accepted.Penalty|PenalizedTeam|PenaltyType|PenalizedPlayer|Penalty.Yards|PosTeamScore|DefTeamScore|ScoreDiff|AbsScoreDiff|Season|\n",
            "+---+----------+----------+-----+---+----+-----+---------+--------+------------+-----------+-----+----------+-------+------+--------+---------+-------+-------------+-------------------------------------------------------------------------------------------------------------------------------------------------------------------------+-------------+------------+---+---------+-------------+------------+-----------+------+----------+--------+----------------+-----------+-----------+----------+------------+------------------+-----------+-----------+-----------+-----------+------+--------+---------+------------+--------+--------------+-----------+--------+---------------+-----------------+------+-----------+-------------+----+----------------+----------------+----------------+-------------+-----------+---------------+-------------+------------+------------+---------+------------+------+\n",
            "|36 |2015-09-10|2015091000|1    |1  |NA  |15:00|15       |3600    |0           |NE         |35   |35        |0      |0     |0       |NA       |PIT    |NE           |S.Gostkowski kicks 65 yards from NE 35 to end zone, Touchback.                                                                                                           |1            |0           |0  |0        |NA           |NA          |NA         |0     |NA        |Kickoff |NA              |0          |NA         |NA        |NA          |0                 |NA         |NA         |0          |NA         |NA    |NA      |0        |Touchback   |NA      |NA            |NA         |NA      |NA             |NA               |0     |NA         |NA           |0   |0               |NA              |0               |NA           |NA         |NA             |0            |0           |0           |0        |0           |2015  |\n",
            "|51 |2015-09-10|2015091000|1    |1  |1   |15:00|15       |3600    |0           |PIT        |20   |80        |10     |18    |0       |1        |PIT    |NE           |(15:00) De.Williams right tackle to PIT 38 for 18 yards (D.Hightower).                                                                                                   |1            |18          |0  |0        |NA           |NA          |NA         |0     |NA        |Run     |NA              |0          |NA         |NA        |NA          |0                 |NA         |D.Hightower|1          |right      |tackle|NA      |0        |NA          |NA      |NA            |D.Hightower|NA      |NA             |NA               |0     |NA         |NA           |0   |0               |NA              |0               |NA           |NA         |NA             |0            |0           |0           |0        |0           |2015  |\n",
            "|72 |2015-09-10|2015091000|1    |1  |1   |14:21|15       |3561    |39          |PIT        |38   |62        |10     |31    |0       |0        |PIT    |NE           |(14:21) B.Roethlisberger pass short right to A.Brown pushed ob at PIT 47 for 9 yards (D.Hightower).                                                                      |1            |9           |0  |0        |NA           |NA          |NA         |0     |NA        |Pass    |B.Roethlisberger|1          |Complete   |Short     |right       |0                 |NA         |NA         |0          |NA         |NA    |A.Brown |1        |NA          |NA      |NA            |D.Hightower|NA      |NA             |NA               |0     |NA         |NA           |0   |0               |NA              |0               |NA           |NA         |NA             |0            |0           |0           |0        |0           |2015  |\n",
            "|101|2015-09-10|2015091000|1    |1  |2   |14:04|15       |3544    |17          |PIT        |47   |53        |1      |31    |0       |1        |PIT    |NE           |(14:04) De.Williams right guard to NE 49 for 4 yards (J.Collins; M.Brown).                                                                                               |1            |4           |0  |0        |NA           |NA          |NA         |0     |NA        |Run     |NA              |0          |NA         |NA        |NA          |0                 |NA         |J.Collins  |1          |right      |guard |NA      |0        |NA          |NA      |NA            |J.Collins  |M.Brown |NA             |NA               |0     |NA         |NA           |0   |0               |NA              |0               |NA           |NA         |NA             |0            |0           |0           |0        |0           |2015  |\n",
            "|122|2015-09-10|2015091000|1    |1  |1   |13:26|14       |3506    |38          |NE         |49   |49        |10     |45    |0       |1        |PIT    |NE           |(13:26) B.Roethlisberger pass short right to H.Miller to NE 35 for 14 yards (J.Mayo).                                                                                    |1            |14          |0  |0        |NA           |NA          |NA         |0     |NA        |Pass    |B.Roethlisberger|1          |Complete   |Short     |right       |0                 |NA         |NA         |0          |NA         |NA    |H.Miller|1        |NA          |NA      |NA            |J.Mayo     |NA      |NA             |NA               |0     |NA         |NA           |0   |0               |NA              |0               |NA           |NA         |NA             |0            |0           |0           |0        |0           |2015  |\n",
            "|159|2015-09-10|2015091000|1    |1  |1   |12:42|13       |3462    |44          |NE         |35   |35        |10     |56    |0       |1        |PIT    |NE           |(12:42) (Shotgun) De.Williams right guard to NE 24 for 11 yards (J.Collins).                                                                                             |1            |11          |0  |0        |NA           |NA          |NA         |0     |NA        |Run     |NA              |0          |NA         |NA        |NA          |0                 |NA         |J.Collins  |1          |right      |guard |NA      |0        |NA          |NA      |NA            |J.Collins  |NA      |NA             |NA               |0     |NA         |NA           |0   |0               |NA              |0               |NA           |NA         |NA             |0            |0           |0           |0        |0           |2015  |\n",
            "|180|2015-09-10|2015091000|1    |1  |1   |12:05|13       |3425    |37          |NE         |24   |24        |10     |48    |0       |0        |PIT    |NE           |(12:05) A.Brown sacked at NE 32 for -8 yards (M.Brown).                                                                                                                  |1            |-8          |0  |0        |NA           |NA          |NA         |0     |NA        |Sack    |NA              |0          |NA         |NA        |NA          |0                 |NA         |NA         |0          |NA         |NA    |NA      |0        |NA          |NA      |NA            |M.Brown    |NA      |NA             |NA               |0     |NA         |NA           |1   |0               |NA              |0               |NA           |NA         |NA             |0            |0           |0           |0        |0           |2015  |\n",
            "|199|2015-09-10|2015091000|1    |1  |2   |11:20|12       |3380    |45          |NE         |32   |32        |18     |54    |0       |0        |PIT    |NE           |(11:20) (Shotgun) De.Williams right end pushed ob at NE 28 for 4 yards (D.Hightower). PENALTY on PIT-M.Gilbert, Offensive Holding, 10 yards, enforced at NE 32 - No Play.|1            |4           |0  |0        |NA           |NA          |NA         |0     |NA        |No Play |NA              |0          |NA         |NA        |NA          |0                 |NA         |NA         |0          |NA         |NA    |NA      |0        |NA          |NA      |NA            |D.Hightower|NA      |NA             |NA               |0     |NA         |NA           |0   |0               |NA              |1               |PIT          |NA         |M.Gilbert      |10           |0           |0           |0        |0           |2015  |\n",
            "|236|2015-09-10|2015091000|1    |1  |2   |10:53|11       |3353    |27          |NE         |42   |42        |28     |54    |0       |0        |PIT    |NE           |(10:53) W.Johnson right guard to NE 36 for 6 yards (R.Ninkovich). NE-D.Easley was injured during the play. He is Out.                                                    |1            |6           |0  |0        |NA           |NA          |NA         |0     |NA        |Run     |NA              |0          |NA         |NA        |NA          |0                 |NA         |W.Johnson  |1          |right      |guard |NA      |0        |NA          |NA      |NA            |R.Ninkovich|NA      |NA             |NA               |0     |NA         |NA           |0   |0               |NA              |0               |NA           |NA         |NA             |0            |0           |0           |0        |0           |2015  |\n",
            "|261|2015-09-10|2015091000|1    |1  |3   |10:28|11       |3328    |25          |NE         |36   |36        |22     |54    |0       |0        |PIT    |NE           |(10:28) (Shotgun) B.Roethlisberger pass short right to H.Miller to NE 26 for 10 yards (P.Chung; M.Butler).                                                               |1            |10          |0  |0        |NA           |NA          |NA         |0     |NA        |Pass    |B.Roethlisberger|1          |Complete   |Short     |right       |0                 |NA         |NA         |0          |NA         |NA    |H.Miller|1        |NA          |NA      |NA            |P.Chung    |M.Butler|NA             |NA               |0     |NA         |NA           |0   |0               |NA              |0               |NA           |NA         |NA             |0            |0           |0           |0        |0           |2015  |\n",
            "+---+----------+----------+-----+---+----+-----+---------+--------+------------+-----------+-----+----------+-------+------+--------+---------+-------+-------------+-------------------------------------------------------------------------------------------------------------------------------------------------------------------------+-------------+------------+---+---------+-------------+------------+-----------+------+----------+--------+----------------+-----------+-----------+----------+------------+------------------+-----------+-----------+-----------+-----------+------+--------+---------+------------+--------+--------------+-----------+--------+---------------+-----------------+------+-----------+-------------+----+----------------+----------------+----------------+-------------+-----------+---------------+-------------+------------+------------+---------+------------+------+\n",
            "only showing top 10 rows\n",
            "\n"
          ],
          "name": "stdout"
        }
      ]
    },
    {
      "cell_type": "markdown",
      "metadata": {
        "id": "zETYN9oBgDUu",
        "colab_type": "text"
      },
      "source": [
        "## Data Cleaning, Transformations, Enrichment"
      ]
    },
    {
      "cell_type": "markdown",
      "metadata": {
        "id": "z4_K17NngDUv",
        "colab_type": "text"
      },
      "source": [
        "### Data Cleaning & Transformations"
      ]
    },
    {
      "cell_type": "code",
      "metadata": {
        "id": "BTBnFATvgDUw",
        "colab_type": "code",
        "colab": {}
      },
      "source": [
        "columns_to_keep =   [   \n",
        "                    \"Date\", \"GameID\", \"Drive\", \"qtr\", \"down\", \"time\", \"TimeUnder\", \"TimeSecs\", \n",
        "                    \"PlayTimeDiff\", \"yrdline100\", \"ydstogo\", \"ydsnet\", \"FirstDown\", \"posteam\", \n",
        "                    \"DefensiveTeam\", \"Yards_Gained\", \"Touchdown\", \"PlayType\", \"PassLength\", \n",
        "                    \"PassLocation\", \"RunLocation\",\n",
        "                    #\"Passer\", \"Rusher\", \"InterceptionThrown\", \"Season\"\n",
        "                    \"PosTeamScore\", \"DefTeamScore\"\n",
        "                    ]\n",
        "\n",
        "# Filter columns (keep)\n",
        "nfldata = rawdata.select(columns_to_keep)\n",
        "\n",
        "# Drop rows with NAa:\n",
        "nfldata = nfldata.filter(nfldata.down != 'NA')\n",
        "\n",
        "# approxQuantile\n",
        "nfldata.approxQuantile(col='Yards_Gained', probabilities=[0.0, 0.1, 0.2, 0.3, 0.4, 0.5, 0.6, 0.7, 0.8, 0.9, 1.0], relativeError=0.05)\n",
        "\n",
        "# Filter target variable (Yards_Gained) to remove outliers\n",
        "nfldata = nfldata.filter( (col('Yards_Gained') <= 20 ) & (col('Yards_Gained') >= -5 ) )\n",
        "nfldata.approxQuantile(col='Yards_Gained', probabilities=[0.0, 0.1, 0.2, 0.3, 0.4, 0.5, 0.6, 0.7, 0.8, 0.9, 1.0], relativeError=0.05)\n",
        "\n",
        "numeric_columns     = [c[0] for c in nfldata.dtypes if c[1] not in ['string','timestamp']]\n",
        "categorical_columns = [c[0] for c in nfldata.dtypes if c[1] in ['string']]\n",
        "datetime_columns    = [c[0] for c in nfldata.dtypes if c[1] in ['timestamp']]\n"
      ],
      "execution_count": 0,
      "outputs": []
    },
    {
      "cell_type": "markdown",
      "metadata": {
        "id": "KDi06NJTgDU0",
        "colab_type": "text"
      },
      "source": [
        "### Data Enrichment & Additional Transformations"
      ]
    },
    {
      "cell_type": "code",
      "metadata": {
        "id": "N6gEI99xgDU1",
        "colab_type": "code",
        "colab": {}
      },
      "source": [
        "nfldata2 = nfldata.withColumn(\"Date\",            col(\"Date\"))                       \\\n",
        "                    .withColumn(\"GameID\",       col(\"GameID\").cast(\"int\"))          \\\n",
        "                    .withColumn(\"Drive\",        col(\"Drive\").cast(\"int\"))           \\\n",
        "                    .withColumn(\"qtr\",          col(\"qtr\").cast(\"int\"))             \\\n",
        "                    .withColumn(\"down\",         col(\"down\").cast(\"int\"))            \\\n",
        "                    .withColumn(\"time\",         col(\"time\").cast(\"string\"))         \\\n",
        "                    .withColumn(\"TimeUnder\",    col(\"TimeUnder\").cast(\"int\"))       \\\n",
        "                    .withColumn(\"TimeSecs\",     col(\"TimeSecs\").cast(\"int\"))        \\\n",
        "                    .withColumn(\"PlayTimeDiff\", col(\"PlayTimeDiff\").cast(\"int\"))    \\\n",
        "                    .withColumn(\"yrdline100\",   col(\"yrdline100\").cast(\"int\"))      \\\n",
        "                    .withColumn(\"ydstogo\",      col(\"ydstogo\").cast(\"int\"))         \\\n",
        "                    .withColumn(\"ydsnet\",       col(\"ydsnet\").cast(\"int\"))          \\\n",
        "                    .withColumn(\"FirstDown\",    col(\"FirstDown\").cast(\"int\"))       \\\n",
        "                    .withColumn(\"posteam\",      col(\"posteam\").cast(\"string\"))      \\\n",
        "                    .withColumn(\"DefensiveTeam\",col(\"DefensiveTeam\").cast(\"string\"))\\\n",
        "                    .withColumn(\"Yards_Gained\", col(\"Yards_Gained\").cast(\"int\"))    \\\n",
        "                    .withColumn(\"Touchdown\",    col(\"Touchdown\").cast(\"int\"))       \\\n",
        "                    .withColumn(\"PlayType\",     col(\"PlayType\").cast(\"string\"))     \\\n",
        "                    .withColumn(\"PassLength\",   col(\"PassLength\").cast(\"string\"))   \\\n",
        "                    .withColumn(\"PassLocation\", col(\"PassLocation\").cast(\"string\")) \\\n",
        "                    .withColumn(\"RunLocation\",  col(\"RunLocation\").cast(\"string\"))  \\\n",
        "                    .withColumn(\"PosTeamScore\", col(\"PosTeamScore\").cast(\"int\"))    \\\n",
        "                    .withColumn(\"DefTeamScore\", col(\"DefTeamScore\").cast(\"int\")) \n",
        "\n",
        "\n",
        "numeric_columns     = [c[0] for c in nfldata2.dtypes if c[1] not in ['string','timestamp']]\n",
        "categorical_columns = [c[0] for c in nfldata2.dtypes if c[1] in ['string']]\n",
        "datetime_columns    = [c[0] for c in nfldata2.dtypes if c[1] in ['timestamp']]\n",
        "\n",
        "# Category Levels\n",
        "[nfldata2.select(nfldata2[c]).groupBy(nfldata2[c]).count().show(5,False) for c in categorical_columns]"
      ],
      "execution_count": 0,
      "outputs": []
    },
    {
      "cell_type": "markdown",
      "metadata": {
        "id": "SxsG77SxgDU4",
        "colab_type": "text"
      },
      "source": [
        "### Data Enrichment & Additional Transformations (Continued...)"
      ]
    },
    {
      "cell_type": "code",
      "metadata": {
        "id": "bE9UQsAwgDU5",
        "colab_type": "code",
        "outputId": "2b91428f-9548-4a6f-b3b9-681c89e40f96",
        "colab": {
          "base_uri": "https://localhost:8080/",
          "height": 71
        }
      },
      "source": [
        "# Filter - Keep where Playtype in ['Run','Pass'] \n",
        "nfldata2 = nfldata2.filter( (nfldata2.PlayType==\"Run\") | (nfldata2.PlayType==\"Pass\") )\n",
        "\n",
        "# Derive Date var(s)\n",
        "nfldata2 = nfldata2.withColumn(\"month_day\", concat(nfldata2[\"Date\"].substr(6,2), nfldata2[\"Date\"].substr(9,2)).cast(\"int\") )\n",
        "\n",
        "# Lag (Get previous PlayType)\n",
        "w = Window().partitionBy('GameID','Drive').orderBy('GameID','Drive', col('TimeSecs').desc())\n",
        "nfldata2 = nfldata2.withColumn(\"PlayType_lag\", lag(\"PlayType\").over(w) ) \\\n",
        "                 .withColumn(\"PlayType_lag\",  when( isnull('PlayType_lag'), 'FirstPlay').otherwise( col('PlayType_lag') ) ) \\\n",
        "                 .orderBy('GameID','Drive', col('TimeSecs').desc())\n",
        "\n",
        "# Print Results\n",
        "#nfldata2.select([\"GameID\",\"Drive\",\"qtr\",\"down\",\"TimeSecs\",\"PlayType\",\"PlayType_lag\",\"yrdline100\",\"posteam\",\"month_day\"]).show(50,False)\n",
        "\n",
        "# Split into \"Run\" and \"Pass\" (I want to build two models)\n",
        "nfldata2_run  = nfldata2.filter( col('PlayType')=='Run' )\n",
        "nfldata2_pass = nfldata2.filter( col('PlayType')=='Pass' )\n",
        "\n",
        "print(\"Total Number of Records:   \" + str(nfldata2.count()))\n",
        "print(\"Number of Running Records: \" + str(nfldata2_run.count()))\n",
        "print(\"Number of Passing Records: \" + str(nfldata2_pass.count()))"
      ],
      "execution_count": 34,
      "outputs": [
        {
          "output_type": "stream",
          "text": [
            "Total Number of Records:   29412\n",
            "Number of Running Records: 12699\n",
            "Number of Passing Records: 16713\n"
          ],
          "name": "stdout"
        }
      ]
    },
    {
      "cell_type": "markdown",
      "metadata": {
        "id": "NwplP0cxgDV8",
        "colab_type": "text"
      },
      "source": [
        "## Model Building"
      ]
    },
    {
      "cell_type": "markdown",
      "metadata": {
        "id": "g-omfCOIgDV9",
        "colab_type": "text"
      },
      "source": [
        "### Split into Train and Test"
      ]
    },
    {
      "cell_type": "code",
      "metadata": {
        "id": "SXJ0pOCIgDV-",
        "colab_type": "code",
        "colab": {}
      },
      "source": [
        "training_run, testing_run   = nfldata2_run.randomSplit([0.8, 0.2], seed=12345)\n",
        "training_pass, testing_pass = nfldata2_pass.randomSplit([0.8, 0.2], seed=12345)"
      ],
      "execution_count": 0,
      "outputs": []
    },
    {
      "cell_type": "markdown",
      "metadata": {
        "id": "jkga8ydLgDWB",
        "colab_type": "text"
      },
      "source": [
        "### Building Model Pipeline"
      ]
    },
    {
      "cell_type": "code",
      "metadata": {
        "id": "PqwMHWiZgDWC",
        "colab_type": "code",
        "colab": {}
      },
      "source": [
        "# Prepare string variables so that they can be used by the decision tree algorithm\n",
        "# StringIndexer encodes a string column of labels to a column of label indices\n",
        "si1 = StringIndexer(inputCol=\"PlayType\", outputCol=\"PlayType_index\")\n",
        "si2 = StringIndexer(inputCol=\"PlayType_lag\", outputCol=\"PlayType_lag_index\")\n",
        "si3 = StringIndexer(inputCol=\"PassLength\", outputCol=\"PassLength_index\")\n",
        "si4 = StringIndexer(inputCol=\"PassLocation\", outputCol=\"PassLocation_index\")\n",
        "si5 = StringIndexer(inputCol=\"RunLocation\", outputCol=\"RunLocation_index\")\n",
        "\n",
        "target   = 'Yards_Gained'\n",
        "features = ['qtr','down','TimeSecs','yrdline100','ydstogo','ydsnet','month_day','PlayType_lag_index']\n",
        "\n",
        "#encode the Label column: feature indexer\n",
        "fi = StringIndexer(inputCol='Yards_Gained', outputCol='label').fit(training_run)\n",
        "\n",
        "# Pipelines API requires that input variables are passed in  a vector\n",
        "va  = VectorAssembler(inputCols=features, outputCol=\"features\")"
      ],
      "execution_count": 0,
      "outputs": []
    },
    {
      "cell_type": "code",
      "metadata": {
        "id": "4PNT8OhVgDWE",
        "colab_type": "code",
        "colab": {}
      },
      "source": [
        "# run the algorithm and build model taking the default settings\n",
        "rfr = RandomForestRegressor(featuresCol=\"label\", labelCol=target, predictionCol=\"prediction\", maxDepth=5, maxBins=350, seed=12345)\n",
        "gbr = GBTRegressor(featuresCol=\"features\", labelCol=target, predictionCol=\"prediction\", maxDepth=5, maxBins=350, seed=12345)\n",
        "\n",
        "# Convert indexed labels back to original labels, label converter\n",
        "labelConverter = IndexToString(inputCol=\"prediction\", outputCol=\"predictedLabel\", labels=fi.labels)"
      ],
      "execution_count": 0,
      "outputs": []
    },
    {
      "cell_type": "markdown",
      "metadata": {
        "id": "DIcZzrSYgDWI",
        "colab_type": "text"
      },
      "source": [
        "### Training the Model"
      ]
    },
    {
      "cell_type": "code",
      "metadata": {
        "id": "9mY_iW1MgDWI",
        "colab_type": "code",
        "colab": {}
      },
      "source": [
        "# Build the machine learning pipeline\n",
        "pipeline_run  = Pipeline(stages=[si2, fi, va, gbr, labelConverter])\n",
        "\n",
        "# Build model. \n",
        "# The fitted model from a Pipeline is a PipelineModel, which consists of fitted models and transformers, corresponding to the pipeline stages.\n",
        "model_run = pipeline_run.fit(training_run)\n",
        "\n",
        "# store the predictions on training data on HDFS\n",
        "#model_run.write().overwrite().save('hdfs://dzaratsian0.field.hortonworks.com:8020/models/nfl_model_run3')"
      ],
      "execution_count": 0,
      "outputs": []
    },
    {
      "cell_type": "code",
      "metadata": {
        "id": "bsneV1cfzjNJ",
        "colab_type": "code",
        "colab": {
          "base_uri": "https://localhost:8080/",
          "height": 35
        },
        "outputId": "a50b423c-29cb-4cf6-c709-9defd17cff4d"
      },
      "source": [
        "#dir(model_run.stages[-2])#.featureImportances\n",
        "model_run.stages[-2].featureImportances\n"
      ],
      "execution_count": 35,
      "outputs": [
        {
          "output_type": "execute_result",
          "data": {
            "text/plain": [
              "SparseVector(8, {0: 0.0067, 1: 0.0578, 2: 0.0619, 3: 0.3049, 4: 0.1209, 5: 0.381, 6: 0.0453, 7: 0.0215})"
            ]
          },
          "metadata": {
            "tags": []
          },
          "execution_count": 35
        }
      ]
    },
    {
      "cell_type": "markdown",
      "metadata": {
        "id": "mK0EXD7zgDWM",
        "colab_type": "text"
      },
      "source": [
        "## Making predictions against the Trained Model"
      ]
    },
    {
      "cell_type": "code",
      "metadata": {
        "id": "MQFrGRvQgDWN",
        "colab_type": "code",
        "outputId": "b066decd-f5cf-4eed-f073-fdfbf341d712",
        "colab": {
          "base_uri": "https://localhost:8080/",
          "height": 199
        }
      },
      "source": [
        "# Make predictions.\n",
        "predictions = model_run.transform(testing_run)\n",
        "# show the results\n",
        "predictions.show(3)"
      ],
      "execution_count": 36,
      "outputs": [
        {
          "output_type": "stream",
          "text": [
            "+----------+----------+-----+---+----+-----+---------+--------+------------+----------+-------+------+---------+-------+-------------+------------+---------+--------+----------+------------+-----------+------------+------------+---------+------------+------------------+-----+--------------------+------------------+--------------+\n",
            "|      Date|    GameID|Drive|qtr|down| time|TimeUnder|TimeSecs|PlayTimeDiff|yrdline100|ydstogo|ydsnet|FirstDown|posteam|DefensiveTeam|Yards_Gained|Touchdown|PlayType|PassLength|PassLocation|RunLocation|PosTeamScore|DefTeamScore|month_day|PlayType_lag|PlayType_lag_index|label|            features|        prediction|predictedLabel|\n",
            "+----------+----------+-----+---+----+-----+---------+--------+------------+----------+-------+------+---------+-------+-------------+------------+---------+--------+----------+------------+-----------+------------+------------+---------+------------+------------------+-----+--------------------+------------------+--------------+\n",
            "|2015-09-13|2015091302|   20|  4|   1|07:55|        8|     475|          22|        71|     10|    24|        0|    CAR|          JAC|           2|        0|     Run|        NA|          NA|     middle|          16|           9|      913|         Run|               0.0|  0.0|[4.0,1.0,475.0,71...| 7.795651766426156|            -1|\n",
            "|2015-09-13|2015091302|   20|  4|   2|05:08|        6|     308|          44|        42|      1|    55|        1|    CAR|          JAC|           4|        0|     Run|        NA|          NA|     middle|          16|           9|      913|        Pass|               1.0|  3.0|[4.0,2.0,308.0,42...| 6.125115075255051|             6|\n",
            "|2015-09-13|2015091302|   20|  4|   2|10:44|       11|     644|           4|        93|     10|     0|        0|    CAR|          JAC|           0|        0|     Run|        NA|          NA|       left|          16|           9|      913|        Pass|               1.0|  4.0|[4.0,2.0,644.0,93...|0.1389773674070135|             2|\n",
            "+----------+----------+-----+---+----+-----+---------+--------+------------+----------+-------+------+---------+-------+-------------+------------+---------+--------+----------+------------+-----------+------------+------------+---------+------------+------------------+-----+--------------------+------------------+--------------+\n",
            "only showing top 3 rows\n",
            "\n"
          ],
          "name": "stdout"
        }
      ]
    },
    {
      "cell_type": "markdown",
      "metadata": {
        "id": "Ie_aeTXHgDWQ",
        "colab_type": "text"
      },
      "source": [
        "### Generate results of classifier"
      ]
    },
    {
      "cell_type": "code",
      "metadata": {
        "id": "d2cSMohfgDWQ",
        "colab_type": "code",
        "outputId": "684bbb86-20cc-44e4-c80d-48466bddda90",
        "colab": {
          "base_uri": "https://localhost:8080/",
          "height": 35
        }
      },
      "source": [
        "predictions=predictions.select(predictions[\"Yards_Gained\"],predictions[\"predictedLabel\"],predictions[\"prediction\"])\n",
        "type(predictions)\n"
      ],
      "execution_count": 37,
      "outputs": [
        {
          "output_type": "execute_result",
          "data": {
            "text/plain": [
              "pyspark.sql.dataframe.DataFrame"
            ]
          },
          "metadata": {
            "tags": []
          },
          "execution_count": 37
        }
      ]
    },
    {
      "cell_type": "code",
      "metadata": {
        "id": "G1XdWELsgDWU",
        "colab_type": "code",
        "outputId": "d99d55a6-e3e9-4212-dc13-00a851fed90c",
        "colab": {
          "base_uri": "https://localhost:8080/",
          "height": 215
        }
      },
      "source": [
        "predictions.show(5)"
      ],
      "execution_count": 38,
      "outputs": [
        {
          "output_type": "stream",
          "text": [
            "+------------+--------------+------------------+\n",
            "|Yards_Gained|predictedLabel|        prediction|\n",
            "+------------+--------------+------------------+\n",
            "|           2|            -1| 7.795651766426156|\n",
            "|           4|             6| 6.125115075255051|\n",
            "|           0|             2|0.1389773674070135|\n",
            "|          11|             0|  4.14659047258052|\n",
            "|           9|             6|  6.87081012427875|\n",
            "+------------+--------------+------------------+\n",
            "only showing top 5 rows\n",
            "\n"
          ],
          "name": "stdout"
        }
      ]
    },
    {
      "cell_type": "markdown",
      "metadata": {
        "id": "KWJRGHxXgDWW",
        "colab_type": "text"
      },
      "source": [
        "### Model Evaluation"
      ]
    },
    {
      "cell_type": "code",
      "metadata": {
        "id": "9qsCGzjRgDWX",
        "colab_type": "code",
        "outputId": "196975ff-b10d-43e7-a191-08f9b96f7a02",
        "colab": {
          "base_uri": "https://localhost:8080/",
          "height": 53
        }
      },
      "source": [
        "# Evaluate Results\n",
        "evaluator = RegressionEvaluator(metricName=\"rmse\", labelCol=target)  # rmse (default)|mse|r2|mae\n",
        "RMSE = evaluator.evaluate(predictions)\n",
        "print('RMSE: ' + str(RMSE))\n",
        "\n",
        "evaluator = RegressionEvaluator(metricName=\"mae\", labelCol=target)  # rmse (default)|mse|r2|mae\n",
        "MAE = evaluator.evaluate(predictions) # Mean Absolute Error\n",
        "print('MSE: ' + str(MAE))"
      ],
      "execution_count": 39,
      "outputs": [
        {
          "output_type": "stream",
          "text": [
            "RMSE: 3.4322276875220328\n",
            "MSE: 2.299682430881539\n"
          ],
          "name": "stdout"
        }
      ]
    }
  ]
}