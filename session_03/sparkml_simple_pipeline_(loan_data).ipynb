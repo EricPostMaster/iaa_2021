{
  "nbformat": 4,
  "nbformat_minor": 0,
  "metadata": {
    "colab": {
      "name": "sparkml_simple_pipeline (loan data).ipynb",
      "provenance": []
    },
    "kernelspec": {
      "name": "python3",
      "display_name": "Python 3"
    }
  },
  "cells": [
    {
      "cell_type": "markdown",
      "metadata": {
        "id": "5-7vRh7EGS30"
      },
      "source": [
        "## **PySpark Machine Learning**\n",
        "###Pipeline Example ([Docs](https://spark.apache.org/docs/latest/ml-pipeline.html))\n",
        "\n",
        "In machine learning, it is common to run a sequence of algorithms. We can bundle these algorithms and data processing steps into a Spark ML Pipeline.\n",
        "\n",
        "A Pipeline is specified as a sequence of stages, and each stage is either a **Transformer** or an **Estimator**. The stages are specified as an ordered array (or DAG).\n",
        "\n",
        "It's often a best practice to save a model or a pipeline to disk for later use. \n",
        "\n",
        "Below is an example Spark ML Pipeline that shows two Transformers (Tokenizer and HashingTF) and one Estimator (Logistic Regression). "
      ]
    },
    {
      "cell_type": "markdown",
      "metadata": {
        "id": "aZ24BRz6FMwN"
      },
      "source": [
        "## **Install Spark Dependencies**\n",
        "\n"
      ]
    },
    {
      "cell_type": "code",
      "metadata": {
        "id": "upqpisH2IoMy"
      },
      "source": [
        "# Install Spark dependencies\n",
        "!apt-get install openjdk-8-jdk-headless -qq > /dev/null\n",
        "!rm spark-3.1.1-bin-hadoop3.2.tgz\n",
        "!wget --no-cookies --no-check-certificate https://ftp.wayne.edu/apache/spark/spark-3.1.1/spark-3.1.1-bin-hadoop3.2.tgz\n",
        "!tar zxvf spark-3.1.1-bin-hadoop3.2.tgz\n",
        "!pip install -q findspark\n",
        "!pip install pyspark"
      ],
      "execution_count": null,
      "outputs": []
    },
    {
      "cell_type": "code",
      "metadata": {
        "id": "X2xvv-QnsQZs",
        "colab": {
          "base_uri": "https://localhost:8080/"
        },
        "outputId": "5f36a66d-ce7b-4074-fded-d8b1c6d02b33"
      },
      "source": [
        "!ls -al | grep spark"
      ],
      "execution_count": 6,
      "outputs": [
        {
          "output_type": "stream",
          "text": [
            "drwxr-xr-x 13 1000 1000      4096 Feb 22 02:11 spark-3.1.1-bin-hadoop3.2\n",
            "-rw-r--r--  1 root root 228721937 Feb 22 02:45 spark-3.1.1-bin-hadoop3.2.tgz\n"
          ],
          "name": "stdout"
        }
      ]
    },
    {
      "cell_type": "markdown",
      "metadata": {
        "id": "3NgWpb22FchD"
      },
      "source": [
        "\n",
        "## **Download Data**\n"
      ]
    },
    {
      "cell_type": "code",
      "metadata": {
        "id": "I47MHeUcyH1j",
        "colab": {
          "base_uri": "https://localhost:8080/"
        },
        "outputId": "32d82e86-ae85-4d11-e3bd-018d3f4fa66b"
      },
      "source": [
        "!wget https://raw.githubusercontent.com/zaratsian/iaa_2020/master/data/loan_200k.csv"
      ],
      "execution_count": 7,
      "outputs": [
        {
          "output_type": "stream",
          "text": [
            "--2021-03-25 13:38:48--  https://raw.githubusercontent.com/zaratsian/iaa_2020/master/data/loan_200k.csv\n",
            "Resolving raw.githubusercontent.com (raw.githubusercontent.com)... 185.199.108.133, 185.199.109.133, 185.199.110.133, ...\n",
            "Connecting to raw.githubusercontent.com (raw.githubusercontent.com)|185.199.108.133|:443... connected.\n",
            "HTTP request sent, awaiting response... 200 OK\n",
            "Length: 18066044 (17M) [text/plain]\n",
            "Saving to: ‘loan_200k.csv’\n",
            "\n",
            "loan_200k.csv       100%[===================>]  17.23M  41.7MB/s    in 0.4s    \n",
            "\n",
            "2021-03-25 13:38:49 (41.7 MB/s) - ‘loan_200k.csv’ saved [18066044/18066044]\n",
            "\n"
          ],
          "name": "stdout"
        }
      ]
    },
    {
      "cell_type": "markdown",
      "metadata": {
        "id": "lvMtRJwUFzie"
      },
      "source": [
        "## **Import Python and PySpark Libraries**"
      ]
    },
    {
      "cell_type": "code",
      "metadata": {
        "id": "2-SIpC_-aw0t"
      },
      "source": [
        "# Set up required environment variables\n",
        "import os\n",
        "os.environ[\"JAVA_HOME\"]  = \"/usr/lib/jvm/java-8-openjdk-amd64\"\n",
        "os.environ[\"SPARK_HOME\"] = \"/content/spark-3.1.1-bin-hadoop3.2\"\n",
        "\n",
        "# Import Dependencies\n",
        "import datetime\n",
        "from pyspark import SparkContext\n",
        "from pyspark.sql import SparkSession\n",
        "from pyspark.sql.types import *\n",
        "from pyspark.sql.functions import *\n",
        "from pyspark.ml.linalg import Vectors\n",
        "from pyspark.ml.regression import DecisionTreeRegressor, GBTRegressor, LinearRegression, GeneralizedLinearRegression\n",
        "from pyspark.ml.classification import GBTClassifier\n",
        "from pyspark.ml.feature import VectorIndexer, VectorAssembler, StringIndexer, OneHotEncoder\n",
        "from pyspark.ml import Pipeline\n",
        "from pyspark.ml.evaluation import RegressionEvaluator, MulticlassClassificationEvaluator, BinaryClassificationEvaluator"
      ],
      "execution_count": 8,
      "outputs": []
    },
    {
      "cell_type": "markdown",
      "metadata": {
        "id": "XyT917EuF7Pv"
      },
      "source": [
        "## **Initialize Spark Session**"
      ]
    },
    {
      "cell_type": "code",
      "metadata": {
        "id": "niAz2S672M_m"
      },
      "source": [
        "spark = SparkSession.builder.appName(\"Spark ML Pipeline Example\").master(\"local[*]\").getOrCreate()"
      ],
      "execution_count": 11,
      "outputs": []
    },
    {
      "cell_type": "markdown",
      "metadata": {
        "id": "hL4NPf_ZF_OF"
      },
      "source": [
        "## **Read CSV into Spark**"
      ]
    },
    {
      "cell_type": "code",
      "metadata": {
        "id": "hC6C3wKwyBbt"
      },
      "source": [
        "loan_rawdata = spark.read.load('loan_200k.csv', format=\"csv\", header=True, inferSchema=True)"
      ],
      "execution_count": 12,
      "outputs": []
    },
    {
      "cell_type": "markdown",
      "metadata": {
        "id": "Nqf2c9xOGFDb"
      },
      "source": [
        "## **Display first few records**"
      ]
    },
    {
      "cell_type": "code",
      "metadata": {
        "id": "Deym0a0pyNNu",
        "colab": {
          "base_uri": "https://localhost:8080/"
        },
        "outputId": "6615f8c9-1840-4b53-d6c3-8a290e7574a2"
      },
      "source": [
        "loan_rawdata.show(5, truncate=False)"
      ],
      "execution_count": 13,
      "outputs": [
        {
          "output_type": "stream",
          "text": [
            "+------+---------+---------+--------------+-------------+-------+-----+---------+-----------------+----------+------+--------+-------+------------------+--------+----------+----------+-----------+\n",
            "|id    |member_id|loan_amnt|term_in_months|interest_rate|payment|grade|sub_grade|employment_length|home_owner|income|verified|default|purpose           |zip_code|addr_state|open_accts|credit_debt|\n",
            "+------+---------+---------+--------------+-------------+-------+-----+---------+-----------------+----------+------+--------+-------+------------------+--------+----------+----------+-----------+\n",
            "|123688|123685   |1800     |36            |17.22        |64.38  |G    |G3       |1                |0         |1896.0|0       |0      |debt_consolidation|853xx   |AZ        |3         |702        |\n",
            "|139940|139937   |500      |36            |9.01         |15.91  |B    |B2       |1                |0         |2000.0|0       |1      |other             |727xx   |AR        |2         |0          |\n",
            "|288342|288338   |500      |36            |8.0          |15.67  |A    |A3       |1                |0         |3300.0|0       |1      |educational       |303xx   |GA        |3         |0          |\n",
            "|228954|228911   |1600     |36            |7.43         |49.72  |A    |A2       |1                |0         |3500.0|0       |1      |other             |069xx   |CT        |2         |506        |\n",
            "|267670|252052   |1525     |36            |10.71        |49.72  |B    |B5       |1                |0         |3600.0|0       |1      |moving            |109xx   |NY        |5         |3757       |\n",
            "+------+---------+---------+--------------+-------------+-------+-----+---------+-----------------+----------+------+--------+-------+------------------+--------+----------+----------+-----------+\n",
            "only showing top 5 rows\n",
            "\n"
          ],
          "name": "stdout"
        }
      ]
    },
    {
      "cell_type": "code",
      "metadata": {
        "id": "m_wwgTNKFdfa",
        "colab": {
          "base_uri": "https://localhost:8080/"
        },
        "outputId": "7bb79fa8-d208-4faf-d383-44ce7e861c7d"
      },
      "source": [
        "loan_rawdata.dtypes"
      ],
      "execution_count": 14,
      "outputs": [
        {
          "output_type": "execute_result",
          "data": {
            "text/plain": [
              "[('id', 'int'),\n",
              " ('member_id', 'int'),\n",
              " ('loan_amnt', 'int'),\n",
              " ('term_in_months', 'int'),\n",
              " ('interest_rate', 'double'),\n",
              " ('payment', 'double'),\n",
              " ('grade', 'string'),\n",
              " ('sub_grade', 'string'),\n",
              " ('employment_length', 'int'),\n",
              " ('home_owner', 'int'),\n",
              " ('income', 'double'),\n",
              " ('verified', 'int'),\n",
              " ('default', 'int'),\n",
              " ('purpose', 'string'),\n",
              " ('zip_code', 'string'),\n",
              " ('addr_state', 'string'),\n",
              " ('open_accts', 'int'),\n",
              " ('credit_debt', 'int')]"
            ]
          },
          "metadata": {
            "tags": []
          },
          "execution_count": 14
        }
      ]
    },
    {
      "cell_type": "markdown",
      "metadata": {
        "id": "N_v2cyCFGMn1"
      },
      "source": [
        "## **Light Data Exploration**"
      ]
    },
    {
      "cell_type": "code",
      "metadata": {
        "id": "TPheTgdLyddA",
        "colab": {
          "base_uri": "https://localhost:8080/"
        },
        "outputId": "013e75a3-c71b-4fa6-bda5-e62be5007c1f"
      },
      "source": [
        "loan_rawdata.groupby(loan_rawdata.default).count().show(20,False)\n"
      ],
      "execution_count": 16,
      "outputs": [
        {
          "output_type": "stream",
          "text": [
            "+-------+------+\n",
            "|default|count |\n",
            "+-------+------+\n",
            "|1      |26775 |\n",
            "|0      |173225|\n",
            "+-------+------+\n",
            "\n"
          ],
          "name": "stdout"
        }
      ]
    },
    {
      "cell_type": "markdown",
      "metadata": {
        "id": "KQFZuHAzGM4g"
      },
      "source": [
        "## **Split Data into Training and Test**"
      ]
    },
    {
      "cell_type": "code",
      "metadata": {
        "id": "Wkc4LN6SGQbL"
      },
      "source": [
        "traindata, testdata = loan_rawdata.randomSplit([0.80, 0.20])"
      ],
      "execution_count": 17,
      "outputs": []
    },
    {
      "cell_type": "code",
      "metadata": {
        "id": "lX09co2mGUy2",
        "colab": {
          "base_uri": "https://localhost:8080/"
        },
        "outputId": "3cdf5cac-25c0-4fba-eb63-e4fe84ea2dc2"
      },
      "source": [
        "print('Training Data: {}'.format(traindata.count()))\n",
        "print('Test Data:     {}'.format(testdata.count()))"
      ],
      "execution_count": 18,
      "outputs": [
        {
          "output_type": "stream",
          "text": [
            "Training Data: 160280\n",
            "Test Data:     39720\n"
          ],
          "name": "stdout"
        }
      ]
    },
    {
      "cell_type": "code",
      "metadata": {
        "id": "CQEnbAEqGudM",
        "colab": {
          "base_uri": "https://localhost:8080/"
        },
        "outputId": "7395c8eb-edd2-4b20-fec1-7c05ccf9c993"
      },
      "source": [
        "traindata.groupby(traindata.default).count().show(20,False)"
      ],
      "execution_count": 19,
      "outputs": [
        {
          "output_type": "stream",
          "text": [
            "+-------+------+\n",
            "|default|count |\n",
            "+-------+------+\n",
            "|1      |21484 |\n",
            "|0      |138796|\n",
            "+-------+------+\n",
            "\n"
          ],
          "name": "stdout"
        }
      ]
    },
    {
      "cell_type": "code",
      "metadata": {
        "id": "GfCLz1B2G2qk",
        "colab": {
          "base_uri": "https://localhost:8080/"
        },
        "outputId": "fd54a615-29e7-408d-f649-75ccdd2572f3"
      },
      "source": [
        "testdata.groupby(testdata.default).count().show(20,False)"
      ],
      "execution_count": 20,
      "outputs": [
        {
          "output_type": "stream",
          "text": [
            "+-------+-----+\n",
            "|default|count|\n",
            "+-------+-----+\n",
            "|1      |5291 |\n",
            "|0      |34429|\n",
            "+-------+-----+\n",
            "\n"
          ],
          "name": "stdout"
        }
      ]
    },
    {
      "cell_type": "markdown",
      "metadata": {
        "id": "0cNbiBlLHDN4"
      },
      "source": [
        "## **Create Transform Objects**\n",
        "These can be used within your feature engineering and model pipeline."
      ]
    },
    {
      "cell_type": "code",
      "metadata": {
        "id": "3JVewqR0G4mh"
      },
      "source": [
        "si  = StringIndexer(inputCol=\"purpose\", outputCol=\"purpose_index\")\n",
        "hot = OneHotEncoder(inputCol=\"purpose_index\", outputCol=\"purpose_features\")\n",
        "va  = VectorAssembler(inputCols=[\"loan_amnt\", \"interest_rate\", \"employment_length\", \"home_owner\", \"income\", \"verified\", \"open_accts\", \"credit_debt\", \"purpose_features\"], outputCol=\"features\")\n",
        "dtr = DecisionTreeRegressor(featuresCol=\"features\", labelCol=\"default\", predictionCol=\"prediction\", maxDepth=2, varianceCol=\"variance\")\n",
        "gbr = GBTRegressor(featuresCol=\"features\", labelCol=\"default\", predictionCol=\"prediction\", maxDepth=5, maxBins=32, maxIter=20, seed=12345)\n",
        "gbc = GBTClassifier(featuresCol=\"features\", labelCol=\"default\", predictionCol=\"prediction\", maxDepth=5, maxIter=20, seed=12345)\n"
      ],
      "execution_count": 21,
      "outputs": []
    },
    {
      "cell_type": "code",
      "metadata": {
        "id": "2co-rIL3HkKz"
      },
      "source": [
        "pipeline = Pipeline(stages=[si, hot, va, gbc])\n",
        "\n",
        "model = pipeline.fit(traindata)"
      ],
      "execution_count": 22,
      "outputs": []
    },
    {
      "cell_type": "code",
      "metadata": {
        "id": "ILWx1DKgHusR"
      },
      "source": [
        "predictions = model.transform(testdata)"
      ],
      "execution_count": 23,
      "outputs": []
    },
    {
      "cell_type": "code",
      "metadata": {
        "id": "v5RLQ-HwIG--",
        "colab": {
          "base_uri": "https://localhost:8080/"
        },
        "outputId": "c57f7060-cc74-48a4-970a-4d9f9f5bea2b"
      },
      "source": [
        "predictions.select(['id','loan_amnt','default','prediction']).show(10,False)"
      ],
      "execution_count": 24,
      "outputs": [
        {
          "output_type": "stream",
          "text": [
            "+------+---------+-------+----------+\n",
            "|id    |loan_amnt|default|prediction|\n",
            "+------+---------+-------+----------+\n",
            "|55521 |1000     |0      |0.0       |\n",
            "|62102 |3200     |0      |0.0       |\n",
            "|65426 |4000     |0      |0.0       |\n",
            "|68926 |2300     |0      |0.0       |\n",
            "|72323 |5000     |1      |0.0       |\n",
            "|85818 |5000     |1      |0.0       |\n",
            "|85961 |1200     |1      |0.0       |\n",
            "|90665 |8500     |0      |0.0       |\n",
            "|98984 |3500     |1      |0.0       |\n",
            "|100214|5000     |0      |0.0       |\n",
            "+------+---------+-------+----------+\n",
            "only showing top 10 rows\n",
            "\n"
          ],
          "name": "stdout"
        }
      ]
    },
    {
      "cell_type": "code",
      "metadata": {
        "id": "lQd0zWlEIJTM",
        "colab": {
          "base_uri": "https://localhost:8080/"
        },
        "outputId": "bd96c842-377e-4227-f2a1-271c6c7949ad"
      },
      "source": [
        "predictions.groupBy(predictions['default'],predictions['prediction']).count().show()"
      ],
      "execution_count": 25,
      "outputs": [
        {
          "output_type": "stream",
          "text": [
            "+-------+----------+-----+\n",
            "|default|prediction|count|\n",
            "+-------+----------+-----+\n",
            "|      1|       0.0| 5282|\n",
            "|      0|       0.0|34419|\n",
            "|      1|       1.0|    9|\n",
            "|      0|       1.0|   10|\n",
            "+-------+----------+-----+\n",
            "\n"
          ],
          "name": "stdout"
        }
      ]
    },
    {
      "cell_type": "code",
      "metadata": {
        "id": "cwqsSszrIlVO",
        "colab": {
          "base_uri": "https://localhost:8080/"
        },
        "outputId": "c8eda40a-21fa-4d15-e471-70e2f4caf369"
      },
      "source": [
        "evaluator = MulticlassClassificationEvaluator(predictionCol=\"prediction\", labelCol=\"default\")\n",
        "evaluator.evaluate(predictions, {evaluator.metricName: \"accuracy\"})"
      ],
      "execution_count": 26,
      "outputs": [
        {
          "output_type": "execute_result",
          "data": {
            "text/plain": [
              "0.8667673716012084"
            ]
          },
          "metadata": {
            "tags": []
          },
          "execution_count": 26
        }
      ]
    },
    {
      "cell_type": "code",
      "metadata": {
        "id": "BcS53MhSnjHA"
      },
      "source": [
        ""
      ],
      "execution_count": null,
      "outputs": []
    }
  ]
}